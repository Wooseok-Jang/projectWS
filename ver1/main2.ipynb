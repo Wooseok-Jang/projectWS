{
 "cells": [
  {
   "cell_type": "code",
   "execution_count": 1,
   "source": [
    "import numpy as np\n",
    "import pandas as pd\n",
    "from sklearn.model_selection import train_test_split\n",
    "from sklearn.linear_model import LinearRegression\n",
    "from sklearn.preprocessing import Normalizer, normalize\n",
    "# np.random.seed(42)\n",
    "from env import User, Theta, Y"
   ],
   "outputs": [],
   "metadata": {}
  },
  {
   "cell_type": "code",
   "execution_count": 2,
   "source": [
    "def genitems(dataset_num, feature_num, mu, sigma):\n",
    "        A = np.random.normal(mu, sigma, (dataset_num, feature_num-1))    # A: (L, d-1)\n",
    "        result = np.hstack((normalize(A, axis=1) / np.sqrt(2), np.ones((dataset_num, 1)) / np.sqrt(2)))   # result: (L, d)\n",
    "        return result\n",
    "\n",
    "def means_to_click(mean):\n",
    "    Y = []\n",
    "    for mean_val in mean:\n",
    "        X_binary = np.where(mean_val>0.5, 1,0)\n",
    "        Y.append(X_binary)         \n",
    "    return np.array(Y)"
   ],
   "outputs": [],
   "metadata": {}
  },
  {
   "cell_type": "code",
   "execution_count": 3,
   "source": [
    "dataset_num = 100000\n",
    "feature_num = 200\n",
    "users = genitems(dataset_num, feature_num, 0, 0.1)\n",
    "theta = genitems(1, feature_num, 0, 0.1)[0]\n",
    "means = np.dot(users,theta)"
   ],
   "outputs": [],
   "metadata": {}
  },
  {
   "cell_type": "code",
   "execution_count": 4,
   "source": [
    "print(means_to_click(means[5:10]))\n",
    "print(means[5:10])"
   ],
   "outputs": [
    {
     "output_type": "stream",
     "name": "stdout",
     "text": [
      "[0 0 0 1 0]\n",
      "[0.41563707 0.35526904 0.4035956  0.54848534 0.43685758]\n"
     ]
    }
   ],
   "metadata": {}
  },
  {
   "cell_type": "code",
   "execution_count": 5,
   "source": [
    "X = users\n",
    "Y = means\n",
    "\n",
    "X_train, X_test, Y_train, Y_test = train_test_split(X, Y, test_size = 0.33, random_state = 42)\n",
    "\n",
    "print(X_train.shape)\n",
    "print(Y_train.shape)\n",
    "print(X_test.shape)\n",
    "print(Y_test.shape)"
   ],
   "outputs": [
    {
     "output_type": "stream",
     "name": "stdout",
     "text": [
      "(67000, 20)\n",
      "(67000,)\n",
      "(33000, 20)\n",
      "(33000,)\n"
     ]
    }
   ],
   "metadata": {}
  },
  {
   "cell_type": "code",
   "execution_count": 6,
   "source": [
    "reg = LinearRegression(fit_intercept=False).fit(X,Y)\n",
    "print(reg.score(X,Y))\n",
    "print(reg.coef_)\n",
    "print(theta)"
   ],
   "outputs": [
    {
     "output_type": "stream",
     "name": "stdout",
     "text": [
      "1.0\n",
      "[ 0.14548741 -0.29552695 -0.12479728 -0.01254632  0.03697343  0.32263026\n",
      " -0.0326554  -0.05870379  0.07114449 -0.04401841 -0.14314593  0.08029553\n",
      " -0.06387934 -0.07837616 -0.00247807  0.31818769 -0.18818313 -0.13335201\n",
      " -0.25920986  0.70710678]\n",
      "[ 0.14548741 -0.29552695 -0.12479728 -0.01254632  0.03697343  0.32263026\n",
      " -0.0326554  -0.05870379  0.07114449 -0.04401841 -0.14314593  0.08029553\n",
      " -0.06387934 -0.07837616 -0.00247807  0.31818769 -0.18818313 -0.13335201\n",
      " -0.25920986  0.70710678]\n"
     ]
    }
   ],
   "metadata": {}
  },
  {
   "cell_type": "code",
   "execution_count": null,
   "source": [],
   "outputs": [],
   "metadata": {}
  }
 ],
 "metadata": {
  "orig_nbformat": 4,
  "language_info": {
   "name": "python",
   "version": "3.8.5",
   "mimetype": "text/x-python",
   "codemirror_mode": {
    "name": "ipython",
    "version": 3
   },
   "pygments_lexer": "ipython3",
   "nbconvert_exporter": "python",
   "file_extension": ".py"
  },
  "kernelspec": {
   "name": "python3",
   "display_name": "Python 3.8.5 64-bit ('test1': conda)"
  },
  "interpreter": {
   "hash": "962d559e8c33a2aa028bb2bfe7f66937fedeac765711f494519751b99352a434"
  }
 },
 "nbformat": 4,
 "nbformat_minor": 2
}