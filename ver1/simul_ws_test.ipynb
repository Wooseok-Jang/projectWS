{
 "cells": [
  {
   "cell_type": "code",
   "execution_count": 40,
   "source": [
    "import numpy as np\n",
    "import pandas as pd\n",
    "from sklearn.model_selection import train_test_split\n",
    "from sklearn.linear_model import LinearRegression\n",
    "np.random.seed(42)"
   ],
   "outputs": [],
   "metadata": {}
  },
  {
   "cell_type": "code",
   "execution_count": 41,
   "source": [
    "class User:\n",
    "    def __init__(self, feature_num):\n",
    "        self.feature_num = feature_num\n",
    "        \n",
    "    def generate_user_normal(self, mu, sigma):\n",
    "        x = np.random.normal(mu, sigma, self.feature_num)\n",
    "        return x\n",
    "    \n",
    "    def generate_user_normal_set(self, num, mu, sigma):\n",
    "        USERS = []\n",
    "        for i in range(num):\n",
    "            USERS.append(self.generate_user_normal(mu, sigma))\n",
    "        return np.array(USERS)\n",
    "        \n",
    "    def __str__(self):\n",
    "        return '\\n'"
   ],
   "outputs": [],
   "metadata": {}
  },
  {
   "cell_type": "code",
   "execution_count": 42,
   "source": [
    "class Theta:\n",
    "    def __init__(self, shape):\n",
    "        self.shape = shape\n",
    "    \n",
    "    def true_normal(self, mu, sigma):\n",
    "        true_normal = np.random.normal(mu, sigma, self.shape)\n",
    "        return true_normal\n",
    "    \n",
    "    def __str__(self):\n",
    "        return '\\n'"
   ],
   "outputs": [],
   "metadata": {}
  },
  {
   "cell_type": "code",
   "execution_count": 43,
   "source": [
    "USERS = User(5).generate_user_normal_set(100, 0, 0.1)\n",
    "# print(f'Shape: {USERS.shape} \\n {np.round(USERS, 3)}')"
   ],
   "outputs": [],
   "metadata": {}
  },
  {
   "cell_type": "code",
   "execution_count": 44,
   "source": [
    "theta_true = Theta([5,1]).true_normal(0, 0.1)"
   ],
   "outputs": [],
   "metadata": {}
  },
  {
   "cell_type": "code",
   "execution_count": 45,
   "source": [
    "# theta_true = np.random.normal(0, 0.1, [5,1])\n",
    "# print(theta_true)\n",
    "print(theta_true.shape)"
   ],
   "outputs": [
    {
     "output_type": "stream",
     "name": "stdout",
     "text": [
      "(5, 1)\n"
     ]
    }
   ],
   "metadata": {}
  },
  {
   "cell_type": "code",
   "execution_count": 46,
   "source": [
    "Y_true = np.matmul(USERS, theta_true)\n",
    "# print(Y_true)\n",
    "print(Y_true.shape)"
   ],
   "outputs": [
    {
     "output_type": "stream",
     "name": "stdout",
     "text": [
      "(100, 1)\n"
     ]
    }
   ],
   "metadata": {}
  },
  {
   "cell_type": "code",
   "execution_count": 47,
   "source": [
    "Y = Y_true\n",
    "X = USERS\n",
    "\n",
    "X_train, X_test, Y_train, Y_test = train_test_split(X, Y, test_size = 0.33, random_state = 42)\n",
    "\n",
    "print(X_train.shape)\n",
    "print(Y_train.shape)\n",
    "print(X_test.shape)\n",
    "print(Y_test.shape)\n",
    "\n"
   ],
   "outputs": [
    {
     "output_type": "stream",
     "name": "stdout",
     "text": [
      "(67, 5)\n",
      "(67, 1)\n",
      "(33, 5)\n",
      "(33, 1)\n"
     ]
    }
   ],
   "metadata": {}
  },
  {
   "cell_type": "code",
   "execution_count": 48,
   "source": [
    "reg = LinearRegression().fit(X,Y)\n",
    "print(reg.score(X,Y))\n",
    "print(reg.coef_)\n",
    "print(theta_true.T)"
   ],
   "outputs": [
    {
     "output_type": "stream",
     "name": "stdout",
     "text": [
      "1.0\n",
      "[[ 0.09261775  0.19094166 -0.13985676  0.05629692 -0.06506426]]\n",
      "[[ 0.09261775  0.19094166 -0.13985676  0.05629692 -0.06506426]]\n"
     ]
    }
   ],
   "metadata": {}
  },
  {
   "cell_type": "code",
   "execution_count": null,
   "source": [],
   "outputs": [],
   "metadata": {}
  }
 ],
 "metadata": {
  "orig_nbformat": 4,
  "language_info": {
   "name": "python",
   "version": "3.8.5",
   "mimetype": "text/x-python",
   "codemirror_mode": {
    "name": "ipython",
    "version": 3
   },
   "pygments_lexer": "ipython3",
   "nbconvert_exporter": "python",
   "file_extension": ".py"
  },
  "kernelspec": {
   "name": "python3",
   "display_name": "Python 3.8.5 64-bit ('test1': conda)"
  },
  "interpreter": {
   "hash": "962d559e8c33a2aa028bb2bfe7f66937fedeac765711f494519751b99352a434"
  }
 },
 "nbformat": 4,
 "nbformat_minor": 2
}