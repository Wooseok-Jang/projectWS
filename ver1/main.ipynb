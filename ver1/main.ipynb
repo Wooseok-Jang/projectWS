{
 "cells": [
  {
   "cell_type": "code",
   "execution_count": 1,
   "source": [
    "import numpy as np\n",
    "import pandas as pd\n",
    "from sklearn.model_selection import train_test_split\n",
    "from sklearn.linear_model import LinearRegression\n",
    "from sklearn.preprocessing import Normalizer, normalize\n",
    "# np.random.seed(42)\n",
    "from env import User, Theta, Y"
   ],
   "outputs": [],
   "metadata": {}
  },
  {
   "cell_type": "code",
   "execution_count": 2,
   "source": [
    "# Initialize\n",
    "# General\n",
    "mu = 0\n",
    "sigma = 0.1\n",
    "\n",
    "# User\n",
    "feature_num = 5\n",
    "dataset_num = 10000\n",
    "\n",
    "# Theta\n",
    "theta_size = [feature_num,1]"
   ],
   "outputs": [],
   "metadata": {}
  },
  {
   "cell_type": "code",
   "execution_count": 5,
   "source": [
    "USERS = User(dataset_num, feature_num).generate_user_normal_set(dataset_num, mu, sigma)\n",
    "true_theta = Theta(theta_size).true_normal(mu, sigma)\n",
    "true_mean = Y().true_mean_linear(USERS,true_theta)"
   ],
   "outputs": [
    {
     "output_type": "error",
     "ename": "ValueError",
     "evalue": "matmul: Input operand 1 has a mismatch in its core dimension 0, with gufunc signature (n?,k),(k,m?)->(n?,m?) (size 5 is different from 10000)",
     "traceback": [
      "\u001b[0;31m---------------------------------------------------------------------------\u001b[0m",
      "\u001b[0;31mValueError\u001b[0m                                Traceback (most recent call last)",
      "\u001b[0;32m<ipython-input-5-3fef31af082a>\u001b[0m in \u001b[0;36m<module>\u001b[0;34m\u001b[0m\n\u001b[1;32m      1\u001b[0m \u001b[0mUSERS\u001b[0m \u001b[0;34m=\u001b[0m \u001b[0mUser\u001b[0m\u001b[0;34m(\u001b[0m\u001b[0mdataset_num\u001b[0m\u001b[0;34m,\u001b[0m \u001b[0mfeature_num\u001b[0m\u001b[0;34m)\u001b[0m\u001b[0;34m.\u001b[0m\u001b[0mgenerate_user_normal_set\u001b[0m\u001b[0;34m(\u001b[0m\u001b[0mdataset_num\u001b[0m\u001b[0;34m,\u001b[0m \u001b[0mmu\u001b[0m\u001b[0;34m,\u001b[0m \u001b[0msigma\u001b[0m\u001b[0;34m)\u001b[0m\u001b[0;34m\u001b[0m\u001b[0;34m\u001b[0m\u001b[0m\n\u001b[1;32m      2\u001b[0m \u001b[0mtrue_theta\u001b[0m \u001b[0;34m=\u001b[0m \u001b[0mTheta\u001b[0m\u001b[0;34m(\u001b[0m\u001b[0mtheta_size\u001b[0m\u001b[0;34m)\u001b[0m\u001b[0;34m.\u001b[0m\u001b[0mtrue_normal\u001b[0m\u001b[0;34m(\u001b[0m\u001b[0mmu\u001b[0m\u001b[0;34m,\u001b[0m \u001b[0msigma\u001b[0m\u001b[0;34m)\u001b[0m\u001b[0;34m\u001b[0m\u001b[0;34m\u001b[0m\u001b[0m\n\u001b[0;32m----> 3\u001b[0;31m \u001b[0mtrue_mean\u001b[0m \u001b[0;34m=\u001b[0m \u001b[0mY\u001b[0m\u001b[0;34m(\u001b[0m\u001b[0;34m)\u001b[0m\u001b[0;34m.\u001b[0m\u001b[0mtrue_mean_linear\u001b[0m\u001b[0;34m(\u001b[0m\u001b[0mUSERS\u001b[0m\u001b[0;34m,\u001b[0m\u001b[0mtrue_theta\u001b[0m\u001b[0;34m)\u001b[0m\u001b[0;34m\u001b[0m\u001b[0;34m\u001b[0m\u001b[0m\n\u001b[0m",
      "\u001b[0;32m~/Desktop/WhiskeySierra/SNU_GSDS/prof_oh_lab/myproject/simulation_ws/ver1/env.py\u001b[0m in \u001b[0;36mtrue_mean_linear\u001b[0;34m(self, X, true_theta)\u001b[0m\n\u001b[1;32m     58\u001b[0m     \u001b[0;32mdef\u001b[0m \u001b[0mtrue_mean_linear\u001b[0m\u001b[0;34m(\u001b[0m\u001b[0mself\u001b[0m\u001b[0;34m,\u001b[0m \u001b[0mX\u001b[0m\u001b[0;34m,\u001b[0m \u001b[0mtrue_theta\u001b[0m\u001b[0;34m)\u001b[0m\u001b[0;34m:\u001b[0m\u001b[0;34m\u001b[0m\u001b[0;34m\u001b[0m\u001b[0m\n\u001b[1;32m     59\u001b[0m         \u001b[0mX_binary\u001b[0m \u001b[0;34m=\u001b[0m \u001b[0;34m[\u001b[0m\u001b[0;34m]\u001b[0m\u001b[0;34m\u001b[0m\u001b[0;34m\u001b[0m\u001b[0m\n\u001b[0;32m---> 60\u001b[0;31m         \u001b[0mmean\u001b[0m \u001b[0;34m=\u001b[0m \u001b[0mnp\u001b[0m\u001b[0;34m.\u001b[0m\u001b[0mmatmul\u001b[0m\u001b[0;34m(\u001b[0m\u001b[0mX\u001b[0m\u001b[0;34m,\u001b[0m \u001b[0mtrue_theta\u001b[0m\u001b[0;34m)\u001b[0m\u001b[0;34m\u001b[0m\u001b[0;34m\u001b[0m\u001b[0m\n\u001b[0m\u001b[1;32m     61\u001b[0m         \u001b[0;32mreturn\u001b[0m \u001b[0mmean\u001b[0m\u001b[0;34m\u001b[0m\u001b[0;34m\u001b[0m\u001b[0m\n\u001b[1;32m     62\u001b[0m \u001b[0;34m\u001b[0m\u001b[0m\n",
      "\u001b[0;31mValueError\u001b[0m: matmul: Input operand 1 has a mismatch in its core dimension 0, with gufunc signature (n?,k),(k,m?)->(n?,m?) (size 5 is different from 10000)"
     ]
    }
   ],
   "metadata": {}
  },
  {
   "cell_type": "code",
   "execution_count": null,
   "source": [
    "# def sigmoid(x):\n",
    "#     return 1/(1+np.exp(-x))\n",
    "\n",
    "# list1 = []\n",
    "\n",
    "# for mean_val in true_mean:\n",
    "#     mean_sigmoid = sigmoid(mean_val)\n",
    "#     X_binary = np.where(mean_sigmoid>0.5, 1,0)\n",
    "#     list1.append(X_binary)         \n",
    "    \n",
    "# # print(true_mean)\n",
    "# # print(np.array(list1))\n",
    "# # normal = Normalizer()\n",
    "# # normal.fit(Y)\n",
    "# # x_normal = normal.transform(Y)\n",
    "# # print(x_normal)\n",
    "\n",
    "# def genitems(L, d):\n",
    "#     A = np.random.normal(0, 1, (L, d-1))    # A: (L, d-1)\n",
    "#     result = np.hstack((normalize(A, axis=1) / np.sqrt(2), np.ones((L, 1)) / np.sqrt(2)))   # result: (L, d)\n",
    "#     return result\n",
    "\n",
    "# items = genitems(dataset_num, feature_num)        # items: (L, d)\n",
    "# theta = genitems(1, feature_num)[0]          # theta: (d,)\n",
    "# means = np.dot(items, theta)  # means: (L,)\n",
    "\n",
    "# # print(min(means))\n",
    "# # print(max(means))\n",
    "\n",
    "# A = np.random.normal(0, 1, (dataset_num, feature_num-1))\n",
    "# result = np.hstack((normalize(A, axis=1) / np.sqrt(2), np.ones((dataset_num,1)) / np.sqrt(2)))\n",
    "# print(theta)\n",
    "\n",
    "user1 = User(1000, 5)"
   ],
   "outputs": [],
   "metadata": {}
  },
  {
   "cell_type": "code",
   "execution_count": null,
   "source": [
    "print(USERS[1])\n",
    "print(true_theta.T)\n",
    "print(true_mean.T)"
   ],
   "outputs": [],
   "metadata": {}
  },
  {
   "cell_type": "code",
   "execution_count": null,
   "source": [
    "X = USERS\n",
    "Y = true_mean\n",
    "\n",
    "X_train, X_test, Y_train, Y_test = train_test_split(X, Y, test_size = 0.33, random_state = 42)\n",
    "\n",
    "print(X_train.shape)\n",
    "print(Y_train.shape)\n",
    "print(X_test.shape)\n",
    "print(Y_test.shape)"
   ],
   "outputs": [],
   "metadata": {}
  },
  {
   "cell_type": "code",
   "execution_count": null,
   "source": [
    "reg = LinearRegression().fit(X,Y)\n",
    "print(reg.score(X,Y))\n",
    "print(reg.coef_)\n",
    "print(true_theta.T)"
   ],
   "outputs": [],
   "metadata": {}
  },
  {
   "cell_type": "code",
   "execution_count": null,
   "source": [],
   "outputs": [],
   "metadata": {}
  }
 ],
 "metadata": {
  "orig_nbformat": 4,
  "language_info": {
   "name": "python",
   "version": "3.8.5",
   "mimetype": "text/x-python",
   "codemirror_mode": {
    "name": "ipython",
    "version": 3
   },
   "pygments_lexer": "ipython3",
   "nbconvert_exporter": "python",
   "file_extension": ".py"
  },
  "kernelspec": {
   "name": "python3",
   "display_name": "Python 3.8.5 64-bit ('test1': conda)"
  },
  "interpreter": {
   "hash": "962d559e8c33a2aa028bb2bfe7f66937fedeac765711f494519751b99352a434"
  }
 },
 "nbformat": 4,
 "nbformat_minor": 2
}